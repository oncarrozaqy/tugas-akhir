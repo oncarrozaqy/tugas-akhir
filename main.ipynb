{
 "cells": [
  {
   "cell_type": "code",
   "execution_count": 25,
   "id": "b22bdf86",
   "metadata": {},
   "outputs": [],
   "source": [
    "import pandas as pd\n",
    "import numpy as np"
   ]
  },
  {
   "cell_type": "code",
   "execution_count": 34,
   "id": "0fe774af",
   "metadata": {},
   "outputs": [],
   "source": [
    "# Import data\n",
    "def load_multiple_csv_files():\n",
    "    data_frames = []\n",
    "    for x in range(1, 30):  # Loop through subjects\n",
    "        for y in range(1, 12):  # Loop through tasks\n",
    "            file_path = f'Unzipped/S{x}/S{x}_task{y}.csv'\n",
    "            try:\n",
    "                df = pd.read_csv(file_path, header=None)  # Read CSV without assuming a header\n",
    "                df['Subject'] = f'S{x}'  # Add subject column\n",
    "                df['Task'] = f'Task{y}'  # Add task column\n",
    "                df.columns = ['Subject', 'Task'] + [f'Feature_{i}' for i in range(1, len(df.columns) - 1)]  # Assign column names\n",
    "                data_frames.append(df)\n",
    "            except FileNotFoundError:\n",
    "\n",
    "                print(f\"File not found: {file_path}\")\n",
    "    # Concatenate all dataframes into a single dataframe\n",
    "    merged_data = pd.concat(data_frames, ignore_index=True)\n",
    "    return pd.DataFrame(merged_data)"
   ]
  },
  {
   "cell_type": "code",
   "execution_count": 35,
   "id": "d26ed643",
   "metadata": {},
   "outputs": [
    {
     "data": {
      "text/html": [
       "<div>\n",
       "<style scoped>\n",
       "    .dataframe tbody tr th:only-of-type {\n",
       "        vertical-align: middle;\n",
       "    }\n",
       "\n",
       "    .dataframe tbody tr th {\n",
       "        vertical-align: top;\n",
       "    }\n",
       "\n",
       "    .dataframe thead th {\n",
       "        text-align: right;\n",
       "    }\n",
       "</style>\n",
       "<table border=\"1\" class=\"dataframe\">\n",
       "  <thead>\n",
       "    <tr style=\"text-align: right;\">\n",
       "      <th></th>\n",
       "      <th>Feature_1</th>\n",
       "      <th>Feature_2</th>\n",
       "      <th>Feature_3</th>\n",
       "      <th>Feature_4</th>\n",
       "      <th>Feature_5</th>\n",
       "      <th>Feature_6</th>\n",
       "      <th>Feature_7</th>\n",
       "      <th>Feature_8</th>\n",
       "      <th>Feature_9</th>\n",
       "      <th>Feature_10</th>\n",
       "      <th>Subject</th>\n",
       "      <th>Task</th>\n",
       "    </tr>\n",
       "  </thead>\n",
       "  <tbody>\n",
       "    <tr>\n",
       "      <th>0</th>\n",
       "      <td>34</td>\n",
       "      <td>69</td>\n",
       "      <td>25137</td>\n",
       "      <td>10967</td>\n",
       "      <td>2604</td>\n",
       "      <td>5321</td>\n",
       "      <td>25031</td>\n",
       "      <td>37279</td>\n",
       "      <td>1725</td>\n",
       "      <td>2549</td>\n",
       "      <td>S1</td>\n",
       "      <td>Task1</td>\n",
       "    </tr>\n",
       "    <tr>\n",
       "      <th>1</th>\n",
       "      <td>43</td>\n",
       "      <td>74</td>\n",
       "      <td>15167</td>\n",
       "      <td>34062</td>\n",
       "      <td>17446</td>\n",
       "      <td>16113</td>\n",
       "      <td>49284</td>\n",
       "      <td>52473</td>\n",
       "      <td>31642</td>\n",
       "      <td>7755</td>\n",
       "      <td>S1</td>\n",
       "      <td>Task1</td>\n",
       "    </tr>\n",
       "    <tr>\n",
       "      <th>2</th>\n",
       "      <td>61</td>\n",
       "      <td>64</td>\n",
       "      <td>5726</td>\n",
       "      <td>4932</td>\n",
       "      <td>2482</td>\n",
       "      <td>6996</td>\n",
       "      <td>139747</td>\n",
       "      <td>18902</td>\n",
       "      <td>7644</td>\n",
       "      <td>3362</td>\n",
       "      <td>S1</td>\n",
       "      <td>Task1</td>\n",
       "    </tr>\n",
       "    <tr>\n",
       "      <th>3</th>\n",
       "      <td>57</td>\n",
       "      <td>64</td>\n",
       "      <td>24948</td>\n",
       "      <td>14535</td>\n",
       "      <td>30571</td>\n",
       "      <td>15185</td>\n",
       "      <td>228001</td>\n",
       "      <td>124834</td>\n",
       "      <td>13174</td>\n",
       "      <td>7611</td>\n",
       "      <td>S1</td>\n",
       "      <td>Task1</td>\n",
       "    </tr>\n",
       "    <tr>\n",
       "      <th>4</th>\n",
       "      <td>66</td>\n",
       "      <td>57</td>\n",
       "      <td>5626</td>\n",
       "      <td>6658</td>\n",
       "      <td>6843</td>\n",
       "      <td>4939</td>\n",
       "      <td>260240</td>\n",
       "      <td>23033</td>\n",
       "      <td>3564</td>\n",
       "      <td>3302</td>\n",
       "      <td>S1</td>\n",
       "      <td>Task1</td>\n",
       "    </tr>\n",
       "  </tbody>\n",
       "</table>\n",
       "</div>"
      ],
      "text/plain": [
       "   Feature_1  Feature_2  Feature_3  Feature_4  Feature_5  Feature_6  \\\n",
       "0         34         69      25137      10967       2604       5321   \n",
       "1         43         74      15167      34062      17446      16113   \n",
       "2         61         64       5726       4932       2482       6996   \n",
       "3         57         64      24948      14535      30571      15185   \n",
       "4         66         57       5626       6658       6843       4939   \n",
       "\n",
       "   Feature_7  Feature_8  Feature_9  Feature_10 Subject   Task  \n",
       "0      25031      37279       1725        2549      S1  Task1  \n",
       "1      49284      52473      31642        7755      S1  Task1  \n",
       "2     139747      18902       7644        3362      S1  Task1  \n",
       "3     228001     124834      13174        7611      S1  Task1  \n",
       "4     260240      23033       3564        3302      S1  Task1  "
      ]
     },
     "execution_count": 35,
     "metadata": {},
     "output_type": "execute_result"
    }
   ],
   "source": [
    "df.head()"
   ]
  },
  {
   "cell_type": "code",
   "execution_count": 28,
   "id": "515b818e",
   "metadata": {},
   "outputs": [
    {
     "name": "stdout",
     "output_type": "stream",
     "text": [
      "<class 'pandas.core.frame.DataFrame'>\n",
      "RangeIndex: 20881 entries, 0 to 20880\n",
      "Data columns (total 12 columns):\n",
      " #   Column      Non-Null Count  Dtype \n",
      "---  ------      --------------  ----- \n",
      " 0   Feature_1   20881 non-null  int64 \n",
      " 1   Feature_2   20881 non-null  int64 \n",
      " 2   Feature_3   20881 non-null  int64 \n",
      " 3   Feature_4   20881 non-null  int64 \n",
      " 4   Feature_5   20881 non-null  int64 \n",
      " 5   Feature_6   20881 non-null  int64 \n",
      " 6   Feature_7   20881 non-null  int64 \n",
      " 7   Feature_8   20881 non-null  int64 \n",
      " 8   Feature_9   20881 non-null  int64 \n",
      " 9   Feature_10  20881 non-null  int64 \n",
      " 10  Subject     20881 non-null  object\n",
      " 11  Task        20881 non-null  object\n",
      "dtypes: int64(10), object(2)\n",
      "memory usage: 1.9+ MB\n"
     ]
    }
   ],
   "source": [
    "df.info()"
   ]
  },
  {
   "cell_type": "code",
   "execution_count": 29,
   "id": "0513c887",
   "metadata": {},
   "outputs": [
    {
     "data": {
      "text/plain": [
       "Task\n",
       "Task8     120\n",
       "Task1      60\n",
       "Task2      60\n",
       "Task3      60\n",
       "Task4      60\n",
       "Task5      60\n",
       "Task6      60\n",
       "Task7      60\n",
       "Task9      60\n",
       "Task10     60\n",
       "Task11     60\n",
       "Name: count, dtype: int64"
      ]
     },
     "execution_count": 29,
     "metadata": {},
     "output_type": "execute_result"
    }
   ],
   "source": [
    "df = load_multiple_csv_files()\n",
    "df[df['Subject']=='S5']['Task'].value_counts()  \n",
    "\n"
   ]
  },
  {
   "cell_type": "code",
   "execution_count": null,
   "id": "603a7d7e",
   "metadata": {},
   "outputs": [],
   "source": []
  },
  {
   "cell_type": "code",
   "execution_count": null,
   "id": "3acf46dc",
   "metadata": {},
   "outputs": [],
   "source": []
  },
  {
   "cell_type": "code",
   "execution_count": null,
   "id": "26980b9b",
   "metadata": {},
   "outputs": [],
   "source": []
  },
  {
   "cell_type": "code",
   "execution_count": null,
   "id": "832cce69",
   "metadata": {},
   "outputs": [],
   "source": []
  },
  {
   "cell_type": "code",
   "execution_count": null,
   "id": "c24053f1",
   "metadata": {},
   "outputs": [],
   "source": []
  },
  {
   "cell_type": "code",
   "execution_count": null,
   "id": "89a71b77",
   "metadata": {},
   "outputs": [],
   "source": []
  }
 ],
 "metadata": {
  "kernelspec": {
   "display_name": "Python 3",
   "language": "python",
   "name": "python3"
  },
  "language_info": {
   "codemirror_mode": {
    "name": "ipython",
    "version": 3
   },
   "file_extension": ".py",
   "mimetype": "text/x-python",
   "name": "python",
   "nbconvert_exporter": "python",
   "pygments_lexer": "ipython3",
   "version": "3.12.8"
  }
 },
 "nbformat": 4,
 "nbformat_minor": 5
}
